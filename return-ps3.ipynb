{
 "cells": [
  {
   "cell_type": "markdown",
   "metadata": {},
   "source": [
    "# CS 224, Winter 2021\n",
    "## Problem Set 3\n",
    "\n",
    "## Due February 28, 2021 @ 11:59pm PST\n"
   ]
  },
  {
   "cell_type": "markdown",
   "metadata": {},
   "source": [
    "<div class=\"alert alert-info\">\n",
    "    <b>Complete with your Information</b><br>\n",
    "    <i>By Submitting this notebook, I assert that all of the work presented here is my own and performed for the express sole purpose of this offering of this course.</i><br>\n",
    "        <br>\n",
    "      <b>(full) Name:</b>  Sakshar Chakravarty  <br>\n",
    "    <b>Student ID Number:</b> 862253039\n",
    "</div>"
   ]
  },
  {
   "cell_type": "markdown",
   "metadata": {},
   "source": [
    "<div class=\"alert alert-success\">\n",
    "    <font size=+2>Total Problem Set Grading</font> (to be completed by grader)<br>\n",
    "    Total Points: 23.5/24<br>\n",
    "    Late Days Used on this assignment: 0<br>\n",
    "    Total Late Days Used: 0<br>\n",
    "    Excellent\n",
    "</div>"
   ]
  },
  {
   "cell_type": "markdown",
   "metadata": {},
   "source": [
    "## Preliminaries\n",
    "\n",
    "We will again (for the last time) be using the data shown in class on house sales in Ames, Iowa.  Data documentation can be found at http://jse.amstat.org/v19n3/decock/DataDocumentation.txt\n",
    "\n",
    "This code is just as PS 2, **EXCEPT** that the features have been standardized and then down-selected to 50 features using PCA.  **AND**, the prediction is now whether the price will is $\\ge\\$200,000$ ($y=1$) or not ($y=0$).\n",
    "\n",
    "The code block below again loads in the data, does the PCA and thresholds the $y$-values.\n",
    "\n",
    "**Do NOT adjust** this code.  Further, you **may not add additional imports** to this notebook."
   ]
  },
  {
   "cell_type": "code",
   "execution_count": 7,
   "metadata": {},
   "outputs": [],
   "source": [
    "import numpy as np\n",
    "import matplotlib.pyplot as plt\n",
    "\n",
    "plt.rcParams['figure.figsize'] = [8, 4]\n",
    "plt.rcParams['figure.dpi'] = 100 # this and above will make the figures large enough to read\n",
    "def loadamesdata(trainfrac = 0.5):\n",
    "    import pandas as pd\n",
    "    from IPython.display import display\n",
    "    \n",
    "    dataframe = pd.read_table('AmesHousing.txt',delimiter='\\t')\n",
    "\n",
    "    dataframe = dataframe[dataframe['Gr Liv Area']<4000] # remove the five really large houses\n",
    "    dataframe = dataframe[dataframe['Sale Condition']=='Normal'] # don't consider partial sales or other types of abnormal sales\n",
    "    dataframe = dataframe.drop(columns=['Order','PID','Sale Condition'])\n",
    "    \n",
    "    categoricalf = [col for col in dataframe if dataframe[col].dtype.name=='object' or col=='MS SubClass']\n",
    "     # Here we are encoding the categorical variables using a \"one-hot\" encoding.  A variable with 3 values (A, B, C)\n",
    "    # gets converted into three binary variables.  For any example (row) exactly one of these binary variables is 1\n",
    "    # indicating which value the original categorical variable took on.\n",
    "    dataframe = pd.get_dummies(dataframe,columns=categoricalf,prefix=categoricalf,dummy_na=True)\n",
    "    # Here we are going to remove any item that is missing a value (encoded as NaN at this stage)\n",
    "    # This is slightly problematic (it could be the missingness is actually related to the value or other features' values)\n",
    "    # Filling it in (with say the average for that feature) is also problematic, in different ways\n",
    "    # So for this problem set, we'll just remove listings (rows) that are missing any of their non-categorical features\n",
    "    dataframe.dropna(inplace=True) # \n",
    "    \n",
    "    dataframe = dataframe.loc[:,(dataframe!=dataframe.iloc[0]).any()] # drop features that have all the same value (across both training and testing)\n",
    "    \n",
    "    dataframe['SalePrice'] = dataframe['SalePrice']/1000 # convert to thousands of dollars, to prevent lots of extra 0s from needing to be printed\n",
    "    dataframe = dataframe[[c for c in dataframe if c != 'SalePrice']+['SalePrice']]# rearrange to put SalePrice at the end:\n",
    "    # training/testing split\n",
    "    # can use \"from sklearn.model_selection import train_test_split\"\n",
    "    # but to more directly show what is going on, here is a more \"raw\" version:\n",
    "    allXY = dataframe.to_numpy()\n",
    "    \n",
    "\n",
    "    allXY = allXY[np.isfinite(allXY).all(axis=1),:]\n",
    "    \n",
    "    # in general, we would take a random shuffle.  However, to grade this consistently, I am going to fix the randomness of the shuffle\n",
    "    np.random.seed(8293781) # my favorite number (well, out of the natural numbers) ;)\n",
    "    np.random.shuffle(allXY) # randomly shuffles the *rows* of the input (or along whatever is the first dimension of the tensor)\n",
    "    # we'll pick the first 50% (as default -- see \"trainfrac\" parameter as training and save the last 50% for testing\n",
    "    lasttraini = int(allXY.shape[0]*trainfrac)\n",
    "    trainXY = allXY[:lasttraini,:]\n",
    "    testXY = allXY[lasttraini:,:]\n",
    "    \n",
    "    trainX = trainXY[:,:-1]\n",
    "    trainY = trainXY[:,-1]\n",
    "    testX = testXY[:,:-1]\n",
    "    testY = testXY[:,-1]\n",
    "\n",
    "    return trainX,trainY,testX,testY, dataframe.columns\n",
    "\n",
    "trainX,trainY,testX,testY,featurenames = loadamesdata(0.75)\n",
    "\n",
    "# use PCA to get to 50 features\n",
    "nfeat = 50\n",
    "stdX = trainX.std(axis=0)\n",
    "stdX[stdX==0.0] = 1.0\n",
    "muX = trainX.mean(axis=0)\n",
    "trainX = (trainX-muX)/stdX\n",
    "testX = (testX-muX)/stdX\n",
    "U,D,Vt = np.linalg.svd(trainX)\n",
    "Vtransform = Vt.T[:,:nfeat]\n",
    "trainX = trainX@Vtransform\n",
    "testX = testX@Vtransform\n",
    "\n",
    "# turn to binary decision problem:\n",
    "salethreshold = 200 # ie, $200,000\n",
    "trainY = (trainY>=salethreshold).astype(int)\n",
    "testY = (testY>=salethreshold).astype(int)\n"
   ]
  },
  {
   "cell_type": "markdown",
   "metadata": {},
   "source": [
    "## Problem Set Overview\n",
    "\n",
    "This problem set explores lienar classification (particularly using Linear Discriminant Analysis and Logistic Regression), coupled with regularization and cross-validation.\n",
    "\n",
    "In question 1, you will build the LDA and Logistic Regression learning and prediction methods.\n",
    "\n",
    "In question 2, you will explore the effects of regularization (without using cross-validation -- by \"cheating\" and looking at the testing set preformance; just pretend the test set is the validation set if this bothers you :) ).\n",
    "\n",
    "In question 3, you will implement cross-validation.\n",
    "\n",
    "**NOTE: for all questions, your linear function should include an intercept term**"
   ]
  },
  {
   "cell_type": "markdown",
   "metadata": {},
   "source": [
    "## Question 1\n",
    "\n",
    "#### 10 points\n",
    "\n",
    "Implementing LDA and Logistic Regression\n",
    "\n",
    "Note that this question contains no checks or test cases; you will need to write your own to check to see that your code is correct.  This is an important skill -- how to check and debug numeric algorithms.  You might try constructing some simple inputs (small, perhaps 2d dataset) where you know the answer.\n"
   ]
  },
  {
   "cell_type": "markdown",
   "metadata": {},
   "source": [
    "### Question 1a\n",
    "### 4 points\n",
    "<div class=\"alert alert-success\">\n",
    "    <font size=+1>Grading</font> (to be completed by grader)<br>\n",
    "    Score: 4/4<br>\n",
    "    passed\n",
    "</div>"
   ]
  },
  {
   "cell_type": "markdown",
   "metadata": {},
   "source": [
    "### Implement Linear Disciminant Analysis (LDA)\n",
    "\n",
    "Implement a function that returns the weight vector for LDA"
   ]
  },
  {
   "cell_type": "code",
   "execution_count": 8,
   "metadata": {},
   "outputs": [],
   "source": [
    "# X is m-by-n, Y is of size m and has values of either 0 or 1\n",
    "# returns LDA weight vector of size n+1\n",
    "# If w is the returned value and x is a new example,\n",
    "# w^T x > 0 indicates a prediction of y=1\n",
    "# and w^T x < 0 indicates a prediction of y=0\n",
    "def fitlda(X,Y,redow0=False):\n",
    "    plusX, minusX = X[np.where(Y==1)], X[np.where(Y==0)]\n",
    "    piplus, piminus = plusX.shape[0]/X.shape[0], minusX.shape[0]/X.shape[0]\n",
    "    muplus, muminus = np.sum(plusX, axis=0)/plusX.shape[0], np.sum(minusX, axis=0)/minusX.shape[0]\n",
    "    diffplus, diffminus = plusX - muplus, minusX - muminus\n",
    "    diff = diffplus.T@diffplus + diffminus.T@diffminus\n",
    "    cov = diff/X.shape[0]\n",
    "    invcov = np.linalg.inv(cov)\n",
    "    w = invcov@(muplus-muminus).T\n",
    "    k = np.log(piplus/piminus) - 0.5*muplus@invcov@muplus.T + 0.5*muminus@invcov@muminus.T\n",
    "    w = np.insert(w, 0, k)\n",
    "    return w"
   ]
  },
  {
   "cell_type": "markdown",
   "metadata": {},
   "source": [
    "### Question 1b\n",
    "### 6 points\n",
    "<div class=\"alert alert-success\">\n",
    "    <font size=+1>Grading</font> (to be completed by grader)<br>\n",
    "    Score: 6/6<br>\n",
    "    passed\n",
    "</div>"
   ]
  },
  {
   "cell_type": "markdown",
   "metadata": {},
   "source": [
    "### Implement Logistic Regression\n",
    "\n",
    "Implement a function that returns the weight vector for logistic regression.\n",
    "\n",
    "Use gradient descent (not Newton's method).  For a good starting point, use the answer from LDA (which is relatively quick). \n",
    "\n",
    "To get quick(ish) convergence without too much fiddling, implement the following method for selecting the step-size, $\\eta$:\n",
    " - Start $\\eta$ at 1.0\n",
    " - If any step of gradient descent does not improve the loss function by at least $10^{-6}$:\n",
    "   - undo the step\n",
    "   - divide $\\eta$ by 2\n",
    "   - continue with gradient descent\n",
    " - Stop when $\\eta$ is less than $10^{-6}$\n",
    " \n",
    "Finally, once you have that working, add regularization: either $L_2$ (adding $\\lambda w^\\top w$) or $L_1$ (adding $\\lambda |w|_1$).  You'll need to work out the correct gradients for these updates.\n",
    "\n",
    "Note: this is not the best way to minimize with an $L_1$ regularizer, but it will be sufficient for this assignment."
   ]
  },
  {
   "cell_type": "code",
   "execution_count": 9,
   "metadata": {},
   "outputs": [],
   "source": [
    "def sigmoid(z):\n",
    "    return 1.0/(1+np.exp(-z))"
   ]
  },
  {
   "cell_type": "code",
   "execution_count": 10,
   "metadata": {},
   "outputs": [],
   "source": [
    "# X is m-by-n, Y is of size m and has values either 0 or 1\n",
    "# lam is the strength of regularization (scalar)\n",
    "# isL1 is a Boolean (True means L1 regularization, False means L2 regularization)\n",
    "# returns n+1 sized weight vector for (regularized) logistic regression\n",
    "def fitlogreg(X,Y,lam, isL1=False):\n",
    "    ## YOUR CODE HERE (you may ignore lam and isL1 when first implementing)\n",
    "    ## Feel free to add other functions or subfunctions\n",
    "    weight = fitlda(X, Y)\n",
    "    X = np.hstack([np.ones((X.shape[0], 1)), X])\n",
    "    eta = 1.0\n",
    "    print(weight.shape,X.shape)\n",
    "    predY = sigmoid(X@weight.T)\n",
    "    prevloss = 0.0\n",
    "    if isL1:\n",
    "        prevloss = lam*np.sum(np.abs(weight))\n",
    "    else:\n",
    "        prevloss = lam*np.dot(weight, weight)\n",
    "    for i in range(X.shape[0]):\n",
    "        if Y[i] == 1:\n",
    "            prevloss -= Y[i]*np.log(predY[i])\n",
    "        else:\n",
    "            prevloss -= (1-Y[i])*np.log(1-predY[i])\n",
    "    while eta >= 0.000001:\n",
    "        predY = sigmoid(X@weight.T)\n",
    "        #predY = np.zeros(Y.shape)\n",
    "        #for i in range(Y.shape[0]):\n",
    "        #    predY[i] = sigmoid(np.dot(X[i],weight))\n",
    "        g = np.sum((predY - Y).reshape((X.shape[0],1))*X, axis=0)\n",
    "        #g = np.zeros(weight.shape)\n",
    "        #for i in range(Y.shape[0]):\n",
    "        #    g += (predY[i]-Y[i])*X[i]\n",
    "        if isL1:\n",
    "            dw = np.where(weight>0, 1, weight)\n",
    "            dw = np.where(dw<0, -1, dw)\n",
    "            g += lam*dw\n",
    "        else:\n",
    "            g += 2*lam*weight\n",
    "        weight = weight - eta*g\n",
    "        predY = sigmoid(X@weight.T)\n",
    "        #for i in range(Y.shape[0]):\n",
    "        #    predY[i] = sigmoid(np.dot(X[i],weight))\n",
    "        loss = 0.0\n",
    "        if isL1:\n",
    "            loss = lam*np.sum(np.abs(weight))\n",
    "        else:\n",
    "            loss = lam*np.dot(weight, weight)\n",
    "        for i in range(X.shape[0]):\n",
    "            if Y[i] == 1:\n",
    "                loss -= Y[i]*np.log(predY[i])\n",
    "            else:\n",
    "                loss -= (1-Y[i])*np.log(1-predY[i])\n",
    "        #loss -= np.sum(Y*np.log(predY) + (1-Y)*np.log(1-predY))\n",
    "        if prevloss - loss < 0.000001:\n",
    "            weight = weight + eta*g\n",
    "            eta = eta/2\n",
    "        else:\n",
    "            prevloss = loss\n",
    "    return weight"
   ]
  },
  {
   "cell_type": "markdown",
   "metadata": {},
   "source": [
    "## Question 2\n",
    "#### 7 points"
   ]
  },
  {
   "cell_type": "markdown",
   "metadata": {},
   "source": [
    "We will now look at the relationship among the regularization strength, the amount of data, and the error rate."
   ]
  },
  {
   "cell_type": "markdown",
   "metadata": {},
   "source": [
    "### Question 2a\n",
    "### 3 points\n",
    "<div class=\"alert alert-success\">\n",
    "    <font size=+1>Grading</font> (to be completed by grader)<br>\n",
    "    Score: 3/3<br>\n",
    "</div>"
   ]
  },
  {
   "cell_type": "markdown",
   "metadata": {},
   "source": [
    "Plot the **testing** error rate as a function of the amount of data in the training set.  In particular, if you are looking at using $200$ training points, use the *first* 200 points in the training set.  In practice, we might want to consider shuffling the points and doing this a few times, but to keep the grading simple (and not introduce other sources of differences), just do this once with the points in the training set in their provided order.\n",
    "\n",
    "Plot this curve on a semi-log scale (see `plt.semilogx`) where the error rate is on a linear scale (vertical axis) and the number of training points is on a log scale (horizontal axis).  Pick 20 points arranged logarithmically uniformly from 100 to the total number of training points (see `np.logspace`).\n",
    "\n",
    "Plot this curve for 5 different $\\lambda$ values for $L_2$ regularization: regularization0.01, 0.1, 1.0, 10, 100.  Also plot this for LDA.  All curves should be on the same set of axes. Use a legend to label all plots.  Label the axes.\n",
    "\n",
    "*note:* this might take some time (my solutions take about 4 minutes)"
   ]
  },
  {
   "cell_type": "code",
   "execution_count": 11,
   "metadata": {},
   "outputs": [],
   "source": [
    "### YOUR CODE HERE\n",
    "def gettesterror(X, Y, w, isLDA=False):\n",
    "    if isLDA:\n",
    "        predY = np.hstack([np.ones((X.shape[0], 1)), X])@w\n",
    "        predY = np.where(predY > 0, 1, 0)\n",
    "    else:\n",
    "        predY = sigmoid(np.hstack([np.ones((X.shape[0], 1)), X])@w)\n",
    "        predY = np.where(predY > 0.5, 1, 0)\n",
    "    return np.sum(np.abs(predY-Y))/Y.shape[0]"
   ]
  },
  {
   "cell_type": "code",
   "execution_count": 12,
   "metadata": {},
   "outputs": [],
   "source": [
    "pts = 20\n",
    "notrainsamples = np.logspace(2,np.log10(trainX.shape[0]),num=pts,dtype=int)\n",
    "errorslogreg = np.zeros((5, pts))\n",
    "errorslda = np.zeros((pts,))\n",
    "lams = [0.01, 0.1, 1.0, 10, 100]"
   ]
  },
  {
   "cell_type": "code",
   "execution_count": 13,
   "metadata": {},
   "outputs": [
    {
     "name": "stdout",
     "output_type": "stream",
     "text": [
      "(51,) (100, 51)\n"
     ]
    },
    {
     "name": "stderr",
     "output_type": "stream",
     "text": [
      "C:\\Users\\EndUser\\AppData\\Local\\Temp/ipykernel_18988/282471875.py:51: RuntimeWarning: divide by zero encountered in log\n",
      "  loss -= (1-Y[i])*np.log(1-predY[i])\n"
     ]
    },
    {
     "name": "stdout",
     "output_type": "stream",
     "text": [
      "(51,) (100, 51)\n",
      "(51,) (100, 51)\n",
      "(51,) (100, 51)\n",
      "(51,) (100, 51)\n",
      "(51,) (114, 51)\n"
     ]
    },
    {
     "name": "stderr",
     "output_type": "stream",
     "text": [
      "C:\\Users\\EndUser\\AppData\\Local\\Temp/ipykernel_18988/3813775231.py:2: RuntimeWarning: overflow encountered in exp\n",
      "  return 1.0/(1+np.exp(-z))\n",
      "C:\\Users\\EndUser\\AppData\\Local\\Temp/ipykernel_18988/282471875.py:49: RuntimeWarning: divide by zero encountered in log\n",
      "  loss -= Y[i]*np.log(predY[i])\n"
     ]
    },
    {
     "name": "stdout",
     "output_type": "stream",
     "text": [
      "(51,) (114, 51)\n",
      "(51,) (114, 51)\n",
      "(51,) (114, 51)\n",
      "(51,) (114, 51)\n",
      "(51,) (131, 51)\n",
      "(51,) (131, 51)\n",
      "(51,) (131, 51)\n",
      "(51,) (131, 51)\n",
      "(51,) (131, 51)\n",
      "(51,) (151, 51)\n",
      "(51,) (151, 51)\n",
      "(51,) (151, 51)\n",
      "(51,) (151, 51)\n",
      "(51,) (151, 51)\n",
      "(51,) (173, 51)\n",
      "(51,) (173, 51)\n",
      "(51,) (173, 51)\n",
      "(51,) (173, 51)\n",
      "(51,) (173, 51)\n",
      "(51,) (199, 51)\n",
      "(51,) (199, 51)\n",
      "(51,) (199, 51)\n",
      "(51,) (199, 51)\n",
      "(51,) (199, 51)\n",
      "(51,) (229, 51)\n",
      "(51,) (229, 51)\n",
      "(51,) (229, 51)\n",
      "(51,) (229, 51)\n",
      "(51,) (229, 51)\n",
      "(51,) (263, 51)\n",
      "(51,) (263, 51)\n",
      "(51,) (263, 51)\n",
      "(51,) (263, 51)\n",
      "(51,) (263, 51)\n",
      "(51,) (302, 51)\n",
      "(51,) (302, 51)\n",
      "(51,) (302, 51)\n",
      "(51,) (302, 51)\n",
      "(51,) (302, 51)\n",
      "(51,) (347, 51)\n",
      "(51,) (347, 51)\n",
      "(51,) (347, 51)\n",
      "(51,) (347, 51)\n",
      "(51,) (347, 51)\n",
      "(51,) (398, 51)\n",
      "(51,) (398, 51)\n",
      "(51,) (398, 51)\n",
      "(51,) (398, 51)\n",
      "(51,) (398, 51)\n",
      "(51,) (457, 51)\n",
      "(51,) (457, 51)\n",
      "(51,) (457, 51)\n",
      "(51,) (457, 51)\n",
      "(51,) (457, 51)\n",
      "(51,) (525, 51)\n",
      "(51,) (525, 51)\n",
      "(51,) (525, 51)\n",
      "(51,) (525, 51)\n",
      "(51,) (525, 51)\n",
      "(51,) (603, 51)\n",
      "(51,) (603, 51)\n",
      "(51,) (603, 51)\n",
      "(51,) (603, 51)\n",
      "(51,) (603, 51)\n",
      "(51,) (693, 51)\n",
      "(51,) (693, 51)\n",
      "(51,) (693, 51)\n",
      "(51,) (693, 51)\n",
      "(51,) (693, 51)\n",
      "(51,) (796, 51)\n",
      "(51,) (796, 51)\n",
      "(51,) (796, 51)\n",
      "(51,) (796, 51)\n",
      "(51,) (796, 51)\n",
      "(51,) (914, 51)\n",
      "(51,) (914, 51)\n",
      "(51,) (914, 51)\n",
      "(51,) (914, 51)\n",
      "(51,) (914, 51)\n",
      "(51,) (1050, 51)\n",
      "(51,) (1050, 51)\n",
      "(51,) (1050, 51)\n",
      "(51,) (1050, 51)\n",
      "(51,) (1050, 51)\n",
      "(51,) (1206, 51)\n",
      "(51,) (1206, 51)\n",
      "(51,) (1206, 51)\n",
      "(51,) (1206, 51)\n",
      "(51,) (1206, 51)\n",
      "(51,) (1385, 51)\n",
      "(51,) (1385, 51)\n",
      "(51,) (1385, 51)\n",
      "(51,) (1385, 51)\n",
      "(51,) (1385, 51)\n"
     ]
    }
   ],
   "source": [
    "for i in range(pts):\n",
    "    X, Y = trainX[:notrainsamples[i]], trainY[:notrainsamples[i]]\n",
    "    wlda = fitlda(X, Y)\n",
    "    errorslda[i] = gettesterror(testX, testY, wlda, isLDA=True)\n",
    "    #print(\"samples:\", notrainsamples[i], \"ldaerror:\", errorslda[i])\n",
    "    for j in range(5):\n",
    "        w = fitlogreg(X, Y, lams[j])\n",
    "        errorslogreg[j][i] = gettesterror(testX, testY, w)\n",
    "        #print(\"lam:\", lams[j],\"logregerror:\", errorslogreg[j][i])"
   ]
  },
  {
   "cell_type": "code",
   "execution_count": 9,
   "metadata": {},
   "outputs": [
    {
     "data": {
      "image/png": "[encoded data removed]",
      "text/plain": [
       "<Figure size 800x400 with 1 Axes>"
      ]
     },
     "metadata": {
      "needs_background": "light"
     },
     "output_type": "display_data"
    }
   ],
   "source": [
    "plt.xlabel('# of training points')\n",
    "plt.ylabel('test error rate')\n",
    "plt.semilogx(notrainsamples, errorslda, 'b', label='lda')\n",
    "plt.semilogx(notrainsamples, errorslogreg[0], 'g', label='lam = 0.01')\n",
    "plt.semilogx(notrainsamples, errorslogreg[1], 'orange', label='lam = 0.1')\n",
    "plt.semilogx(notrainsamples, errorslogreg[2], 'y', label='lam = 1.0')\n",
    "plt.semilogx(notrainsamples, errorslogreg[3], 'r', label='lam = 10')\n",
    "plt.semilogx(notrainsamples, errorslogreg[4], 'pink', label='lam = 100')\n",
    "plt.legend(loc='upper right', fontsize=8)\n",
    "plt.show()"
   ]
  },
  {
   "cell_type": "markdown",
   "metadata": {},
   "source": [
    "### Question 2b\n",
    "### 2 points\n",
    "<div class=\"alert alert-success\">\n",
    "    <font size=+1>Grading</font> (to be completed by grader)<br>\n",
    "    Score: 2/2<br>\n",
    "</div>"
   ]
  },
  {
   "cell_type": "markdown",
   "metadata": {},
   "source": [
    "What are the differences between the LDA and logistic regression curve?\n",
    "\n",
    "Explain these differences (perhaps by attributes of the data itself)."
   ]
  },
  {
   "cell_type": "markdown",
   "metadata": {},
   "source": [
    "With the increase of the size of the training set, both LDA and logistic regression gradually perform better. However, the improvement in  the performance of logistic regression is much better than that of LDA except for $\\lambda$ = 100. The most probable reason behind it can be that the training points of the two classes are not balanced and not distributed from two similar Gaussian. This properties of the training data hinder LDA to perform well. However, the performance of logistic regression does not depend on the distribution of the data points of different classes and with more training data, its performance gets better."
   ]
  },
  {
   "cell_type": "markdown",
   "metadata": {},
   "source": [
    "## Question 2c\n",
    "### 2 points\n",
    "<div class=\"alert alert-success\">\n",
    "    <font size=+1>Grading</font> (to be completed by grader)<br>\n",
    "    Score: 1.5/2<br>\n",
    "    But what does this say about the reduced dataset size of x-validation?\n",
    "</div>"
   ]
  },
  {
   "cell_type": "markdown",
   "metadata": {},
   "source": [
    "Just looking at the logistic regression curves, what does this plot tell us about the relationship between $\\lambda$, the number of training points, and the error rate?\n",
    "\n",
    "What does this imply for cross-validation?"
   ]
  },
  {
   "cell_type": "markdown",
   "metadata": {},
   "source": [
    "For the same $\\lambda$, we can see that the error rate has an inverse relationship with the number of training points. However, for the same number of training points, different $\\lambda$'s have different error rates and not necessarily, they have a direct correlation. This implies that it is required to perform cross-validation by varying the value of $\\lambda$ to pick the best one for the logistic regression model given the training points."
   ]
  },
  {
   "cell_type": "markdown",
   "metadata": {},
   "source": [
    "## Question 3\n",
    "### 7 points"
   ]
  },
  {
   "cell_type": "markdown",
   "metadata": {},
   "source": [
    "Now we will look at cross-validation to pick $\\lambda$."
   ]
  },
  {
   "cell_type": "markdown",
   "metadata": {},
   "source": [
    "### Question 3a\n",
    "### 3 points\n",
    "<div class=\"alert alert-success\">\n",
    "    <font size=+1>Grading</font> (to be completed by grader)<br>\n",
    "    Score: 3/3<br>\n",
    "</div>"
   ]
  },
  {
   "cell_type": "markdown",
   "metadata": {},
   "source": [
    "Divide the training set in half and use the first half as training and the second half as validation (this is extreme, usually the training would be a larger fraction, but for this assignment, this will be simpler).\n",
    "\n",
    "Do cross-validation to pick $\\lambda$ and whether to use $L_1$ or $L_2$ regularization.  That is, try $L_1$ regularization with a set of $\\lambda$ values and $L_2$ regularization with a set of $\\lambda$ values and pick the combination which does best in validation error.\n",
    "\n",
    "Use the same $\\lambda$ values for both forms of regularization: 20 points logarithmically spaces between $10^{-2}$ and $10^2$.\n",
    "\n",
    "Plot the resulting validation error rate as a function of $\\lambda$ for both $L_1$ and $L_2$ (two separate curves on the same plot).  Label your plot."
   ]
  },
  {
   "cell_type": "code",
   "execution_count": 10,
   "metadata": {},
   "outputs": [],
   "source": [
    "### YOUR CODE HERE\n",
    "halftrainsamples = trainX.shape[0]//2\n",
    "halftrainX, halftrainY = trainX[:halftrainsamples], trainY[:halftrainsamples]\n",
    "validationX, validationY = trainX[halftrainsamples:], trainY[halftrainsamples:]"
   ]
  },
  {
   "cell_type": "code",
   "execution_count": 11,
   "metadata": {},
   "outputs": [],
   "source": [
    "ls = 20\n",
    "lamdas = np.logspace(-2,2,num=ls,dtype=float)\n",
    "errors = np.zeros((2, pts))\n",
    "w1s = []"
   ]
  },
  {
   "cell_type": "code",
   "execution_count": 16,
   "metadata": {},
   "outputs": [
    {
     "name": "stdout",
     "output_type": "stream",
     "text": [
      "(51,) (692, 51)\n"
     ]
    },
    {
     "name": "stderr",
     "output_type": "stream",
     "text": [
      "C:\\Users\\EndUser\\AppData\\Local\\Temp/ipykernel_18960/282471875.py:51: RuntimeWarning: divide by zero encountered in log\n",
      "  loss -= (1-Y[i])*np.log(1-predY[i])\n"
     ]
    },
    {
     "name": "stdout",
     "output_type": "stream",
     "text": [
      "(51,) (692, 51)\n",
      "(51,) (692, 51)\n",
      "(51,) (692, 51)\n",
      "(51,) (692, 51)\n",
      "(51,) (692, 51)\n",
      "(51,) (692, 51)\n",
      "(51,) (692, 51)\n",
      "(51,) (692, 51)\n",
      "(51,) (692, 51)\n",
      "(51,) (692, 51)\n",
      "(51,) (692, 51)\n",
      "(51,) (692, 51)\n",
      "(51,) (692, 51)\n",
      "(51,) (692, 51)\n",
      "(51,) (692, 51)\n",
      "(51,) (692, 51)\n",
      "(51,) (692, 51)\n",
      "(51,) (692, 51)\n",
      "(51,) (692, 51)\n",
      "(51,) (692, 51)\n",
      "(51,) (692, 51)\n",
      "(51,) (692, 51)\n",
      "(51,) (692, 51)\n",
      "(51,) (692, 51)\n",
      "(51,) (692, 51)\n",
      "(51,) (692, 51)\n",
      "(51,) (692, 51)\n",
      "(51,) (692, 51)\n",
      "(51,) (692, 51)\n",
      "(51,) (692, 51)\n",
      "(51,) (692, 51)\n",
      "(51,) (692, 51)\n"
     ]
    },
    {
     "name": "stderr",
     "output_type": "stream",
     "text": [
      "C:\\Users\\EndUser\\AppData\\Local\\Temp/ipykernel_18960/3813775231.py:2: RuntimeWarning: overflow encountered in exp\n",
      "  return 1.0/(1+np.exp(-z))\n",
      "C:\\Users\\EndUser\\AppData\\Local\\Temp/ipykernel_18960/282471875.py:49: RuntimeWarning: divide by zero encountered in log\n",
      "  loss -= Y[i]*np.log(predY[i])\n"
     ]
    },
    {
     "name": "stdout",
     "output_type": "stream",
     "text": [
      "(51,) (692, 51)\n",
      "(51,) (692, 51)\n",
      "(51,) (692, 51)\n",
      "(51,) (692, 51)\n",
      "(51,) (692, 51)\n",
      "(51,) (692, 51)\n",
      "(51,) (692, 51)\n"
     ]
    }
   ],
   "source": [
    "for i in range(ls):\n",
    "    w1 = fitlogreg(halftrainX, halftrainY, lamdas[i], True)\n",
    "    w1s.append(w1)\n",
    "    w2 = fitlogreg(halftrainX, halftrainY, lamdas[i])\n",
    "    errors[0][i] = gettesterror(validationX, validationY, w1)\n",
    "    errors[1][i] = gettesterror(validationX, validationY, w2)\n",
    "    #print(\"lam:\", lamdas[i],\"l1:\", errors[0][i], \"l2:\", errors[1][i])"
   ]
  },
  {
   "cell_type": "code",
   "execution_count": 13,
   "metadata": {},
   "outputs": [
    {
     "data": {
      "image/png": "[encoded data removed]",
      "text/plain": [
       "<Figure size 800x400 with 1 Axes>"
      ]
     },
     "metadata": {
      "needs_background": "light"
     },
     "output_type": "display_data"
    }
   ],
   "source": [
    "plt.xlabel('$\\lambda$')\n",
    "plt.ylabel('validation error rate')\n",
    "plt.semilogx(lamdas, errors[0], 'b', label='L1')\n",
    "plt.semilogx(lamdas, errors[1], 'r', label='L2')\n",
    "plt.legend(loc='lower right', fontsize=8)\n",
    "plt.show()"
   ]
  },
  {
   "cell_type": "markdown",
   "metadata": {},
   "source": [
    "### Question 3b\n",
    "### 2 points\n",
    "<div class=\"alert alert-success\">\n",
    "    <font size=+1>Grading</font> (to be completed by grader)<br>\n",
    "    Score: 2/2<br>\n",
    "</div>"
   ]
  },
  {
   "cell_type": "markdown",
   "metadata": {},
   "source": [
    "Which regularizer and with what strength does cross-validation select? Write code to print out the answer; don't do it by hand."
   ]
  },
  {
   "cell_type": "code",
   "execution_count": 14,
   "metadata": {},
   "outputs": [
    {
     "name": "stdout",
     "output_type": "stream",
     "text": [
      "regularizer: L1, strength: 8.858667904100823\n"
     ]
    }
   ],
   "source": [
    "### YOUR CODE HERE\n",
    "l1_min, l2_min = np.argmin(errors[0]), np.argmin(errors[1])\n",
    "if errors[0][l1_min] < errors[1][l2_min]:\n",
    "    print('regularizer: L1, strength:',lamdas[l1_min])\n",
    "else:\n",
    "    print('regularizer: L2, strength:',lamdas[l2_min])"
   ]
  },
  {
   "cell_type": "markdown",
   "metadata": {},
   "source": [
    "### Question 3c\n",
    "### 2 points\n",
    "<div class=\"alert alert-success\">\n",
    "    <font size=+1>Grading</font> (to be completed by grader)<br>\n",
    "    Score: 2/2<br>\n",
    "</div>"
   ]
  },
  {
   "cell_type": "markdown",
   "metadata": {},
   "source": [
    "Plot the effective number of features as a function of $\\lambda$ for the L1-regularizer (based on the weights learned in cross-validation, above).  \n",
    "\n",
    "Since you are using gradient descent, your weights won't go exactly to $0$.  Count a feature as \"used\" if the absolute value of its weight is greater than $10^{-3}$.\n",
    "\n",
    "Again, plot on a semi-log plot and label your plot."
   ]
  },
  {
   "cell_type": "code",
   "execution_count": 15,
   "metadata": {},
   "outputs": [
    {
     "data": {
      "image/png": "[encoded data removed]",
      "text/plain": [
       "<Figure size 800x400 with 1 Axes>"
      ]
     },
     "metadata": {
      "needs_background": "light"
     },
     "output_type": "display_data"
    }
   ],
   "source": [
    "### YOUR CODE HERE\n",
    "feats = np.zeros(lamdas.shape)\n",
    "for i in range(ls):\n",
    "    feats[i] = np.where(np.abs(w1s[i]) > .001)[0].shape[0]\n",
    "plt.xlabel('$\\lambda$')\n",
    "plt.ylabel('# of effective features')\n",
    "plt.semilogx(lamdas, feats)\n",
    "plt.show()"
   ]
  }
 ],
 "metadata": {
  "kernelspec": {
   "display_name": "Python 3",
   "language": "python",
   "name": "python3"
  },
  "language_info": {
   "codemirror_mode": {
    "name": "ipython",
    "version": 3
   },
   "file_extension": ".py",
   "mimetype": "text/x-python",
   "name": "python",
   "nbconvert_exporter": "python",
   "pygments_lexer": "ipython3",
   "version": "3.9.9"
  }
 },
 "nbformat": 4,
 "nbformat_minor": 4
}
