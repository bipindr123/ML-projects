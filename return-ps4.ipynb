{
 "cells": [
  {
   "cell_type": "markdown",
   "metadata": {},
   "source": [
    "# CS 224, Winter 2021\n",
    "## Problem Set 4\n",
    "\n",
    "## Due March 14, 2021 @ 11:59pm PST\n"
   ]
  },
  {
   "cell_type": "markdown",
   "metadata": {},
   "source": [
    "<div class=\"alert alert-info\">\n",
    "    <b>Complete with your Information</b><br>\n",
    "    <i>By Submitting this notebook, I assert that all of the work presented here is my own and performed for the express sole purpose of this offering of this course.</i><br>\n",
    "        <br>\n",
    "      <b>(full) Name:</b>  Sakshar Chakravarty  <br>\n",
    "    <b>Student ID Number:</b> 862253039\n",
    "</div>"
   ]
  },
  {
   "cell_type": "markdown",
   "metadata": {},
   "source": [
    "<div class=\"alert alert-success\">\n",
    "    <font size=+2>Total Problem Set Grading</font> (to be completed by grader)<br>\n",
    "    Total Points: 23.5/24<br>\n",
    "    Late Days Used on this assignment: 2<br>\n",
    "    Total Late Days Used: <br>\n",
    "</div>"
   ]
  },
  {
   "cell_type": "markdown",
   "metadata": {},
   "source": [
    "## OVERVIEW\n",
    "\n",
    "In this problem set, we will be modeling the spelling of words.  That is, we will be modeling the sequence of letters that make up English words.\n",
    "\n",
    "In the realm of natural language modeling, this is not the most exciting part (modeling sequences of words in sentences, for instance, is more related to meaning).  However, this is a simpler, smaller task (there are fewer letters than there are words) and therefore more suitable to a first HMM project.\n",
    "\n",
    "The models we will end up with are not state-of-the-art.  However, state-of-the-art models are built in much the same way, just with added \"fanciness.\"\n"
   ]
  },
  {
   "cell_type": "markdown",
   "metadata": {},
   "source": [
    "## Loops\n",
    "\n",
    "Implementing HMMs and Markov models naturally leads to loops.  The loops over \"time\" (t), usually from 1 to T, are unavoidable.  \n",
    "\n",
    "The loops over states or observations (usually from 1 to K or 1 to L) are easily removed (in favor of numpy expressions that do the same).  You should certainly do this, otherwise your code will be too slow.\n",
    "\n",
    "The loops over data examples (from 1 to m) are more difficult to remove.  Because T is constant across examples, they can be removed and your code will run much faster.  As an example, if you have a row vector `v` and wish to multiply it by the matrix `A`, you can do this with `v@A`.  If you have a set of `v`s to so multiply, you could run a loop.  *Or*, you could stack these vectors into a tall matrix `V` (one `v` per row) and do `V@A` and get out all of the answers at once.  This is many times faster.\n",
    "\n",
    "You do *not* need to remove loops over data examples.  However, you will probably be happier (and your code shorter) if you do.  I recommend first implementing a function with a loop (as it is easier to check that you have done it correctly).  Test it on a small bit of data to see that it works.  Then, implement a version without a loop over data examples.  Check that you get the same answer out of both.  "
   ]
  },
  {
   "cell_type": "markdown",
   "metadata": {},
   "source": [
    "## Data\n",
    "\n",
    "To get a set of words, with their \"natural\" frequency of occurance, we will be using the text of Lewis Carroll's \"Alice in Wonderland.\"  \n",
    "\n",
    "The code below imports all modules you are allowed to use (do not add any others!) and loads in the text.\n",
    "\n",
    "Each word is considered it's own example (remember, we are not modeling the ordering of words, only the ordering of spelling within words).  All words have been converted to uppercase and extended (with spaces) to be exactly 14 letters long.  This means that there are 27 observation ('A' = 0, 'B' = 1, ..., 'Z' = 25, '_' = 26) and T = 14 for all sequences."
   ]
  },
  {
   "cell_type": "markdown",
   "metadata": {},
   "source": [
    "## Code\n",
    "\n",
    "This implementation has been broken up for you into functions to implement.  No single function is longer than 10-15 lines of code (and many are only 3-4 lines).  \n",
    "\n",
    "Do **not** adjust the input arguments or the outputs, otherwise it will be very difficult to properly grade.  It is certainly possible to organize HMM learning and estimation differently.  Please do not do so.  You may add helper functions if you wish."
   ]
  },
  {
   "cell_type": "code",
   "execution_count": 1,
   "metadata": {},
   "outputs": [],
   "source": [
    "import numpy as np\n",
    "import matplotlib.pyplot as plt\n",
    "import re\n",
    "from matplotlib.cm import binary as bwcolormap\n",
    "from IPython.display import display, clear_output, Markdown\n",
    "\n",
    "def loadtext(fname):\n",
    "    nonletter = re.compile('[^a-zA-Z]+')\n",
    "\n",
    "    words = []\n",
    "    textstate = 0\n",
    "    with open(fname,'r') as f:\n",
    "        for word in re.split(nonletter,f.read()):\n",
    "            if textstate==0:\n",
    "                if word == 'START':\n",
    "                    textstate=1\n",
    "            elif textstate==1:\n",
    "                if word == 'WONDERLAND':\n",
    "                    textstate=2\n",
    "            elif textstate==2:\n",
    "                words.append(word.upper())\n",
    "                if word=='END':\n",
    "                    textstate=3\n",
    "    return words\n",
    "\n",
    "def chartoobs(c):\n",
    "    return ord(c)-ord('A') if c != ' ' else 26\n",
    "\n",
    "def obstochar(x):\n",
    "    return chr(x+ord('A')) if x != 26 else ' '\n",
    "\n",
    "def wordstoX(words):\n",
    "    mlen = max([len(s) for s in words])\n",
    "    return np.array([[chartoobs(l) for l in '{0: <{1}}'.format(w,mlen)] for w in words],dtype=int)\n",
    "\n",
    "def Xtowords(X):\n",
    "    return [''.join([obstochar(v) for v in x]).rstrip() for x in X]\n",
    "\n",
    "\n",
    "X = wordstoX(loadtext('aliceinwonderland.txt'))"
   ]
  },
  {
   "cell_type": "markdown",
   "metadata": {},
   "source": [
    "### Alternative Data\n",
    "\n",
    "The Alice-in-Wonderland dataset (loaded as `X`, above) has 27,341 examples of sequences, each 14 \"timesteps\" long.  This might be too large for practical debugging.\n",
    "\n",
    "The code below generates a smaller dataset (`weatherX`) using the weather-umbrella example from class.  **It isn't used in the problem set**, but you might find it helpful in debugging."
   ]
  },
  {
   "cell_type": "code",
   "execution_count": 2,
   "metadata": {},
   "outputs": [],
   "source": [
    "def hmmsample(pi,A,B,T):\n",
    "    K = A.shape[0]\n",
    "    nobs = B.shape[1]\n",
    "    def sampnext(z):\n",
    "        newz = np.random.choice(K,1,p=A[z,:])[0]\n",
    "        newx = np.random.choice(nobs,1,p=B[newz,:])[0]\n",
    "        return (newz,newx)\n",
    "\n",
    "    def sampinit():\n",
    "        newz = np.random.choice(K,1,p=pi)[0]\n",
    "        newx = np.random.choice(nobs,1,p=B[newz,:])[0]\n",
    "        return (newz,newx)\n",
    "\n",
    "    z = np.zeros(T,dtype=int)\n",
    "    x = np.zeros(T,dtype=int)\n",
    "    z[0],x[0] = sampinit()\n",
    "    for t in range(1,T):\n",
    "        z[t],x[t] = sampnext(z[t-1])\n",
    "    \n",
    "    return z,x\n",
    "\n",
    "weatherpi = np.array([0.6,0.3,0.1]) #states are in the order sunny, cloudy, raining\n",
    "weatherA = np.array([[0.5,0.4,0.1],[0.4,0.3,0.3],[0.2,0.5,0.3]])\n",
    "weatherB = np.array([[0.1,0.9],[0.5,0.5],[0.8,0.2]]) # obs are in the order umbrella, no-umbrella\n",
    "weatherm = 20\n",
    "weatherT = 10\n",
    "\n",
    "weathersamps = [hmmsample(weatherpi,weatherA,weatherB,weatherT) for i in range(weatherm)]\n",
    "weatherzx = list(zip(*weathersamps))\n",
    "\n",
    "weatherZ = np.array(weatherzx[0])\n",
    "weatherX = np.array(weatherzx[1]) "
   ]
  },
  {
   "cell_type": "markdown",
   "metadata": {},
   "source": [
    "## Question 1\n",
    "### Markov Model\n",
    "\n",
    "First we will build a Markov model (not an HMM) over the letter sequences"
   ]
  },
  {
   "cell_type": "markdown",
   "metadata": {},
   "source": [
    "### Question 1a\n",
    "### 4 points\n",
    "<div class=\"alert alert-success\">\n",
    "    <font size=+1>Grading</font> (to be completed by grader)<br>\n",
    "    Score: 3/3<br>\n",
    "</div>"
   ]
  },
  {
   "cell_type": "markdown",
   "metadata": {},
   "source": [
    "### Markov Chain Sufficient Statistics\n",
    "\n",
    "Implement the following function to compute the sufficient statistics for the Markov chain."
   ]
  },
  {
   "cell_type": "code",
   "execution_count": 3,
   "metadata": {},
   "outputs": [],
   "source": [
    "# X has shape (m,T)\n",
    "# K is the number of states\n",
    "# returns the pair (N1,N)\n",
    "# where N1 has shape (K,)\n",
    "#   and N has shape (K,K)\n",
    "def markovsuffstats(X,K):\n",
    "    ## Your code here\n",
    "    N1 = np.zeros((K,))\n",
    "    for i in range(X.shape[0]):\n",
    "        N1[X[i][0]] += 1\n",
    "    N = np.zeros((K,K))\n",
    "    for i in range(X.shape[0]):\n",
    "        for j in range(1,X.shape[1]):\n",
    "            N[X[i][j-1]][X[i][j]] += 1\n",
    "    return (N1, N)"
   ]
  },
  {
   "cell_type": "markdown",
   "metadata": {},
   "source": [
    "### Question 1b\n",
    "### 4 points\n",
    "<div class=\"alert alert-success\">\n",
    "    <font size=+1>Grading</font> (to be completed by grader)<br>\n",
    "    Score: 2/2<br>\n",
    "</div>"
   ]
  },
  {
   "cell_type": "markdown",
   "metadata": {},
   "source": [
    "### Markov Chain MLE\n",
    "\n",
    "Implement the function below that takes the sufficient statistics and returns the maximum likelihood parameters."
   ]
  },
  {
   "cell_type": "code",
   "execution_count": 4,
   "metadata": {},
   "outputs": [],
   "source": [
    "# N1 has shape (K,)\n",
    "# N has shape (K,K)\n",
    "# returns the pair (pi,A)\n",
    "# where pi has shape (K,)\n",
    "#   and A has shape (K,K)\n",
    "def markovmle(N1,N):\n",
    "    ## Your code here\n",
    "    pi = N1/N1.sum()\n",
    "    A = np.zeros(N.shape)\n",
    "    for i in range(N.shape[0]):\n",
    "        A[i] = N[i]/N[i].sum()\n",
    "    return (pi, A)"
   ]
  },
  {
   "cell_type": "markdown",
   "metadata": {},
   "source": [
    "### Question 1c\n",
    "### 4 points\n",
    "<div class=\"alert alert-success\">\n",
    "    <font size=+1>Grading</font> (to be completed by grader)<br>\n",
    "    Score: 2/2<br>\n",
    "</div>"
   ]
  },
  {
   "cell_type": "markdown",
   "metadata": {},
   "source": [
    "### Markov Chain Words\n",
    "\n",
    "Run the following code to sample from a learned model"
   ]
  },
  {
   "cell_type": "code",
   "execution_count": 5,
   "metadata": {},
   "outputs": [],
   "source": [
    "def markovsample(pi,A,T,rseed=8491920):\n",
    "    np.random.seed(rseed) ## you may remove this for your own testing, but please place it back and \n",
    "            ## run the cell block with this particular random number seed to aid in grading\n",
    "    K = A.shape[0]\n",
    "    x = np.zeros(T,dtype=int)\n",
    "    x[0] = np.random.choice(K,1,p=pi)[0]\n",
    "    for t in range(1,T):\n",
    "        x[t] = np.random.choice(K,1,p=A[x[t-1],:])[0]\n",
    "    return x\n",
    "    \n",
    "MCpi,MCA = markovmle(*markovsuffstats(X,27))"
   ]
  },
  {
   "cell_type": "code",
   "execution_count": 6,
   "metadata": {},
   "outputs": [
    {
     "name": "stdout",
     "output_type": "stream",
     "text": [
      "['OUSTHER', 'ISALEDNGOTHIF', 'LARORIF', 'OULK', 'WI', 'D', 'UN', 'ATIS', 'T', 'ANKEELIGAND']\n"
     ]
    }
   ],
   "source": [
    "print(Xtowords([markovsample(MCpi,MCA,14,i) for i in range(10)]))"
   ]
  },
  {
   "cell_type": "markdown",
   "metadata": {},
   "source": [
    "## Question 2\n",
    "### Hidden Markov Model"
   ]
  },
  {
   "cell_type": "markdown",
   "metadata": {},
   "source": [
    "Now we will model the letter sequences as observations from a hidden Markov model."
   ]
  },
  {
   "cell_type": "markdown",
   "metadata": {},
   "source": [
    "### Preliminary Extra Material\n",
    "\n",
    "Eventually, we will also want to measure the total log-likelihood of a dataset (to monitor the progress of the EM algorithm).  We didn't cover this in class, so here is how to calculate the log-likelihood of the observations:\n",
    "\n",
    "For a single example, $P(x_{1:T})$ can be rewritten as $P(x_1)P(x_2\\mid x_1)P(x_3\\mid x_{1:2})P(x_4\\mid x_{1:3} \\dots P(x_T\\mid x_{1:T-1})$.  Each of these terms are just the normalizing constants used in the forward pass (calculating $\\alpha$s) on the same data sequence.  Multiplying them together would result in numeric underflow.  However, we want the **log**-likelihood, so adding their logs is fine.\n",
    "\n",
    "Thus, the log-likelihood of a data sequence is the sum of the logs of the normalizing constants used during the forward pass on the same data sequence.  The log-likelihood of a dataset is the sum of the log-likelihoods across all sequences in the dataset."
   ]
  },
  {
   "cell_type": "markdown",
   "metadata": {},
   "source": [
    "### Question 2a\n",
    "### 3 points\n",
    "<div class=\"alert alert-success\">\n",
    "    <font size=+1>Grading</font> (to be completed by grader)<br>\n",
    "    Score: 5/5<br>\n",
    "    backward multiplies by 10 for no reason<br>\n",
    "</div>"
   ]
  },
  {
   "cell_type": "markdown",
   "metadata": {},
   "source": [
    "### forward-backward algorithm\n",
    "\n",
    "Implement the forward and backward passes as below.  These functions take in an entire dataset and return the $\\alpha$s and $\\beta$s for all times for all examples in the dataset.  You may implement them by looping over each example.  However, I recommend eventually converting this to doing all example sequences in parallel.\n",
    "\n",
    "Calculating $\\psi$ first makes things simpler and more modular, so the functions below do not directly depend on B, but depend on B through $\\psi$ (which is calculated in its own function)"
   ]
  },
  {
   "cell_type": "code",
   "execution_count": 37,
   "metadata": {},
   "outputs": [],
   "source": [
    "# X: (m,T) {of integers from 0 to L-1}\n",
    "# B: (K,L)\n",
    "# returns psi of shape (m,T,K)\n",
    "def getpsi(X,B):\n",
    "    # provided for you:\n",
    "    return B.T[X,:]\n",
    "    # as an example, the above is far better than\n",
    "    #\n",
    "    # (m,T) = X.shape\n",
    "    # (K,L) = B.shape\n",
    "    # ret = np.zeros(m,T,K)\n",
    "    # for i in range(m):\n",
    "    #     for t in range(T):\n",
    "    #         ret[i,t,:] = B[X[i,t],:]\n",
    "    # return ret\n",
    "    #\n",
    "    # let numpy work for you!\n",
    "\n",
    "# pi: (K,)\n",
    "# A: (K,K)\n",
    "# psi: (m,T,K)\n",
    "# returns alpha, llh\n",
    "#   alpha: (m,T,K)\n",
    "#   llh: scalar\n",
    "def forward(pi,A,psi):\n",
    "    # Your code here\n",
    "    mod_psi = np.swapaxes(psi, 0, 1)\n",
    "    alpha = np.zeros(mod_psi.shape)\n",
    "    prod = pi*mod_psi[0]\n",
    "    prod_sum = prod.sum(axis=1).reshape((mod_psi.shape[1], 1))\n",
    "    llh = np.log(prod_sum).sum()\n",
    "    alpha[0] = prod/prod_sum\n",
    "    for t in range(1, mod_psi.shape[0]):\n",
    "        prod = mod_psi[t]*(alpha[t-1]@A)\n",
    "        prod_sum = prod.sum(axis=1).reshape((mod_psi.shape[1], 1))\n",
    "        llh += np.log(prod_sum).sum()\n",
    "        alpha[t] = prod/prod_sum\n",
    "    alpha = np.swapaxes(alpha, 0, 1)\n",
    "    return alpha, llh\n",
    "# A: K,K\n",
    "# psi: m,T,K\n",
    "# ret: m,T,K\n",
    "def backward(A,psi):\n",
    "    # Your code here\n",
    "    mod_psi = np.swapaxes(psi, 0, 1)\n",
    "    beta = np.ones(mod_psi.shape)\n",
    "    for t in range(mod_psi.shape[0]-2, -1, -1):\n",
    "        prod = (mod_psi[t+1]*beta[t+1])@A.T\n",
    "        beta[t] = prod #10*prod\n",
    "    beta = np.swapaxes(beta, 0, 1)\n",
    "    return beta"
   ]
  },
  {
   "cell_type": "markdown",
   "metadata": {},
   "source": [
    "### Question 2b\n",
    "### 2 points\n",
    "<div class=\"alert alert-success\">\n",
    "    <font size=+1>Grading</font> (to be completed by grader)<br>\n",
    "    Score: 2/2<br>\n",
    "</div>"
   ]
  },
  {
   "cell_type": "markdown",
   "metadata": {},
   "source": [
    "### gamma and xi\n",
    "\n",
    "Implement the following functions to calculate gamma and xi"
   ]
  },
  {
   "cell_type": "code",
   "execution_count": 8,
   "metadata": {},
   "outputs": [],
   "source": [
    "# A: (K,K)\n",
    "# psi: (m,T,K)\n",
    "# alpha: (m,T,K)\n",
    "# beta: (m,T,K)\n",
    "# ret: (m,T,K,K)\n",
    "def getxi(A,psi,alpha,beta):\n",
    "    # Your code here\n",
    "    mod_alpha = np.moveaxis(alpha, 0, -1)\n",
    "    mod_beta = np.swapaxes(beta, 0, 1)\n",
    "    mod_psi = np.swapaxes(psi, 0, 1)\n",
    "    xi = np.zeros((alpha.shape[1]-1, alpha.shape[2], alpha.shape[0], alpha.shape[2]))\n",
    "    for t in range(xi.shape[0]):\n",
    "        for j in range(xi.shape[1]):\n",
    "            prod = mod_alpha[t][j].reshape((mod_alpha.shape[-1],1))*A[j].reshape((1,A.shape[-1]))*mod_psi[t+1]*mod_beta[t+1]\n",
    "            xi[t][j] = prod\n",
    "    xi = np.swapaxes(np.swapaxes(xi, 1, 2), 0, 1)\n",
    "    xi_sum = xi.sum(axis=(-2,-1)).reshape((xi.shape[0],xi.shape[1],1,1))\n",
    "    return xi/xi_sum\n",
    "# alpha: (m,T,K)\n",
    "# beta: (m,T,K)\n",
    "# ret: (m,T,K)\n",
    "def getgamma(alpha,beta):\n",
    "    # Your code here\n",
    "    prod = alpha*beta\n",
    "    gamma = prod/prod.sum(axis=2).reshape((prod.shape[0], prod.shape[1], 1)) \n",
    "    return gamma"
   ]
  },
  {
   "cell_type": "markdown",
   "metadata": {},
   "source": [
    "### Question 2c\n",
    "### 3 points\n",
    "<div class=\"alert alert-success\">\n",
    "    <font size=+1>Grading</font> (to be completed by grader)<br>\n",
    "    Score: 5/5<br>\n",
    "</div>"
   ]
  },
  {
   "cell_type": "markdown",
   "metadata": {},
   "source": [
    "### EM\n",
    "\n",
    "Implement the E and M steps for EM with the following functions\n",
    "\n",
    "Recall that the log-likelihood of the data (calculated the displayed each iteration of EM) should improve every iteration."
   ]
  },
  {
   "cell_type": "code",
   "execution_count": 9,
   "metadata": {},
   "outputs": [],
   "source": [
    "# X: (m,T) {of values from 0 to L-1)}\n",
    "# pi: (K,)\n",
    "# A: (K,K)\n",
    "# B: (K,L)\n",
    "# ret: N1,N,NX\n",
    "#  N1: (K,)\n",
    "#  N: (K,K)\n",
    "#  NX: (K,L)\n",
    "def estep(X,pi,A,B):\n",
    "    # Your code here\n",
    "    psi = getpsi(X, B)\n",
    "    alpha, _ = forward(pi, A, psi)\n",
    "    beta = backward(A, psi)\n",
    "    xi = getxi(A, psi, alpha, beta)\n",
    "    gamma = getgamma(alpha, beta)\n",
    "    N1 = gamma[:,0,:].sum(axis=0)\n",
    "    N = np.zeros(A.shape)\n",
    "    for j in range(A.shape[0]):\n",
    "        N[j] = xi[:,:,j,:].sum(axis=(0,1))\n",
    "    NX = np.zeros(B.T.shape)\n",
    "    for i in range(X.shape[0]):\n",
    "        for t in range(X.shape[1]):\n",
    "            NX[X[i][t]] += gamma[i][t]\n",
    "    return N1, N, NX.T\n",
    "# N1: (K,)\n",
    "# N: (K,K)\n",
    "# NX: (K,L)\n",
    "# return (pi,A,B)\n",
    "#   pi: (K,)\n",
    "#    A: (K,K)\n",
    "#    B: (K,L)\n",
    "def mstep(N1,N,NX):\n",
    "    # Your code here\n",
    "    pi = N1/N1.sum()\n",
    "    A = N/N.sum(axis=1).reshape((N.shape[0],1))\n",
    "    B = NX/NX.sum(axis=1).reshape((NX.shape[0],1))\n",
    "    return (pi, A, B)"
   ]
  },
  {
   "cell_type": "code",
   "execution_count": 10,
   "metadata": {},
   "outputs": [],
   "source": [
    "# X: (m,T)\n",
    "# pi: (K,)\n",
    "# A: (K,K)\n",
    "# B: (K,L)\n",
    "# returns learned pi,A,B,llhseq\n",
    "# (starting from input pi,A,B)\n",
    "# where pi,A,B are learned parameters and llhseq\n",
    "# is the llh over EM iterations\n",
    "def em(X,pi,A,B):\n",
    "    # provided\n",
    "    i = 0\n",
    "    oldllh = -np.inf\n",
    "    llhseq = []\n",
    "    while True:\n",
    "        pi,A,B = mstep(*estep(X,pi,A,B))\n",
    "        llh = forward(pi,A,getpsi(X,B))[1]\n",
    "        relllhimp = (llh-oldllh)/np.abs(llh)\n",
    "        llhseq.append(llh)\n",
    "        clear_output(wait=True)\n",
    "        display('itt #{0:d}, llh={1:.6f}, rel-llh-imp={2:.6f}'.format(i,llh,relllhimp))\n",
    "        if relllhimp < 1e-4: break\n",
    "        oldllh = llh\n",
    "        i += 1\n",
    "    return pi,A,B,llhseq"
   ]
  },
  {
   "cell_type": "markdown",
   "metadata": {},
   "source": [
    "## Question 3\n",
    "### Putting it together"
   ]
  },
  {
   "cell_type": "markdown",
   "metadata": {},
   "source": [
    "#### Starting parameter values\n",
    "\n",
    "Often starting parameter values for $\\pi, A, B$ are chosen at random.  We need to make sure that they sum correctly (for instance, that each row of $A$ sums to 1).  The easiest way to do this is to pick random values for the sufficient statistics, and then plug those into the M-step to get random parameters that obey the constraints.\n",
    "\n",
    "There are a great many things about the spelling of English words we could use to give \"hints\" to the HMM about how to organize its hidden states.  However, the main purpose of this assignment is to have the method learn these itself.\n",
    "\n",
    "Instead, we will just use one fact about the special \"space\" letter that we used to pad all words to the same length.  We know that this observation always comes at the end.  That is, after it is produced, only \"spaces\" should be produced there after.  This means that we don't need to model any fancy states associated with the space observation.  So, we can tie the space observation to a single state and that state only by initially seeding the B matrix such that the \"space\" observation can only be generated from one state (say the last state) and that (last) state can only generate the \"space\" observation.  This way, the HMM won't try to use multiple hidden states to model the simple \"end of word\" sequence of spaces.\n"
   ]
  },
  {
   "cell_type": "markdown",
   "metadata": {},
   "source": [
    "### To Do:\n",
    "\n",
    "Run the following code to learn HMM models (with various numbers of hidden states)"
   ]
  },
  {
   "cell_type": "code",
   "execution_count": 12,
   "metadata": {},
   "outputs": [],
   "source": [
    "# K and L are the number of hidden states and the number of observations, respectively\n",
    "# lastspecial is a flag to indicate whether the last observation should be tied to the last state (see description above)\n",
    "# returns pi,A,B\n",
    "def startingparams(K,L,lastspecial=False):\n",
    "    pseudoNX = np.random.rand(K,L)\n",
    "    if lastspecial and K>1:\n",
    "        pseudoNX[:-1,-1] = 0\n",
    "        pseudoNX[-1,:-1] = 0\n",
    "    return mstep(np.random.rand(K),np.random.rand(K,K),pseudoNX)\n",
    "\n",
    "# returns pi,A,B,llhseq\n",
    "def learnhmm(X,K,L,lastspecial=False):\n",
    "    return em(X,*startingparams(K,L,lastspecial))"
   ]
  },
  {
   "cell_type": "code",
   "execution_count": 13,
   "metadata": {},
   "outputs": [],
   "source": [
    "# some code to visualize the resulting parameter matrices\n",
    "# (plots transpose of pi to make visual fit better)\n",
    "def plotparams(pi,A,B):\n",
    "    def plotmat(ax,M):\n",
    "        ax.matshow(M,cmap=bwcolormap)\n",
    "        ax.set_xticks([])\n",
    "        ax.set_yticks([])\n",
    "    K,L = B.shape\n",
    "    fig,axs = plt.subplots(1,3,gridspec_kw={'width_ratios':[1,K,L]})\n",
    "    plotmat(axs[0],pi[:,None])\n",
    "    plotmat(axs[1],A)\n",
    "    plotmat(axs[2],B)\n",
    "    axs[2].set_xticks(list(range(L)))\n",
    "    axs[2].set_xticklabels([obstochar(x) for x in range(L)])\n",
    "\n",
    "def runexample(X,K,L,lastspecial=False):\n",
    "    np.random.seed(158712) # feel free to remove to get randomness on your test\n",
    "                # but please run your results below with this random number seed\n",
    "                # (used only for the startingparams) so that grading is simpler\n",
    "    pi,A,B,llhseq = learnhmm(X,K,L,lastspecial)\n",
    "    if len(llhseq)>2:\n",
    "        fig,ax = plt.subplots(1,1,figsize=(2,1))\n",
    "        plt.plot(llhseq)\n",
    "        plt.show()\n",
    "    plotparams(pi,A,B)\n",
    "    display(Markdown('## {0} hidden states'.format(K)))\n",
    "    plt.show()\n",
    "    print(\"example outputs:\")\n",
    "    print(','.join(Xtowords([hmmsample(pi,A,B,14)[1] for i in range(10)])))"
   ]
  },
  {
   "cell_type": "code",
   "execution_count": 23,
   "metadata": {},
   "outputs": [
    {
     "data": {
      "text/plain": [
       "'itt #52, llh=-128.715860, rel-llh-imp=0.000099'"
      ]
     },
     "metadata": {},
     "output_type": "display_data"
    },
    {
     "data": {
      "image/png": "[encoded data removed]",
      "text/plain": [
       "<Figure size 144x72 with 1 Axes>"
      ]
     },
     "metadata": {
      "needs_background": "light"
     },
     "output_type": "display_data"
    },
    {
     "data": {
      "text/markdown": [
       "## 3 hidden states"
      ],
      "text/plain": [
       "<IPython.core.display.Markdown object>"
      ]
     },
     "metadata": {},
     "output_type": "display_data"
    },
    {
     "data": {
      "image/png": "[encoded data removed]",
      "text/plain": [
       "<Figure size 432x288 with 3 Axes>"
      ]
     },
     "metadata": {
      "needs_background": "light"
     },
     "output_type": "display_data"
    },
    {
     "name": "stdout",
     "output_type": "stream",
     "text": [
      "example outputs:\n",
      "ABABABAAAAABBB,BBAABBAAAABAAA,BBBAABBAAAABBB,BBABBBBAAABABA,ABBBBBABBABBBB,BBBBBBBBAABBAA,BAABBBBBABBABB,BBBBABBBBABBBB,BBAABBBABABABA,BBBBBAABBBBBAB\n"
     ]
    }
   ],
   "source": [
    "runexample(weatherX,3,2) # perhaps a good check to run for your code -- not part of the assignment"
   ]
  },
  {
   "cell_type": "code",
   "execution_count": 24,
   "metadata": {},
   "outputs": [
    {
     "data": {
      "text/plain": [
       "'itt #1, llh=-538160.285594, rel-llh-imp=0.000000'"
      ]
     },
     "metadata": {},
     "output_type": "display_data"
    },
    {
     "data": {
      "text/markdown": [
       "## 1 hidden states"
      ],
      "text/plain": [
       "<IPython.core.display.Markdown object>"
      ]
     },
     "metadata": {},
     "output_type": "display_data"
    },
    {
     "data": {
      "image/png": "[encoded data removed]",
      "text/plain": [
       "<Figure size 432x288 with 3 Axes>"
      ]
     },
     "metadata": {
      "needs_background": "light"
     },
     "output_type": "display_data"
    },
    {
     "name": "stdout",
     "output_type": "stream",
     "text": [
      "example outputs:\n",
      "   AN      H G, R   AET    L,BTEEP     EAS,DI  AIA      I,   RI  F     T,S       O A T,     R      H,   M  SIG  HO,   T        E,  H   TD L\n",
      "CPU times: user 2.35 s, sys: 21.3 ms, total: 2.37 s\n",
      "Wall time: 2.35 s\n"
     ]
    }
   ],
   "source": [
    "%%time\n",
    "runexample(X,1,27)"
   ]
  },
  {
   "cell_type": "code",
   "execution_count": 25,
   "metadata": {},
   "outputs": [
    {
     "data": {
      "text/plain": [
       "'itt #1, llh=-371696.578799, rel-llh-imp=0.000000'"
      ]
     },
     "metadata": {},
     "output_type": "display_data"
    },
    {
     "data": {
      "text/markdown": [
       "## 2 hidden states"
      ],
      "text/plain": [
       "<IPython.core.display.Markdown object>"
      ]
     },
     "metadata": {},
     "output_type": "display_data"
    },
    {
     "data": {
      "image/png": "[encoded data removed]",
      "text/plain": [
       "<Figure size 432x288 with 3 Axes>"
      ]
     },
     "metadata": {
      "needs_background": "light"
     },
     "output_type": "display_data"
    },
    {
     "name": "stdout",
     "output_type": "stream",
     "text": [
      "example outputs:\n",
      "FCA,DEFL,ABNOETOA,I,SBE,O,RHHTRTPTI,C,YP,D\n",
      "CPU times: user 2.37 s, sys: 35.5 ms, total: 2.4 s\n",
      "Wall time: 2.38 s\n"
     ]
    }
   ],
   "source": [
    "%%time\n",
    "runexample(X,2,27,True)"
   ]
  },
  {
   "cell_type": "code",
   "execution_count": 26,
   "metadata": {},
   "outputs": [
    {
     "data": {
      "text/plain": [
       "'itt #13, llh=-355428.164752, rel-llh-imp=0.000089'"
      ]
     },
     "metadata": {},
     "output_type": "display_data"
    },
    {
     "data": {
      "image/png": "[encoded data removed]",
      "text/plain": [
       "<Figure size 144x72 with 1 Axes>"
      ]
     },
     "metadata": {
      "needs_background": "light"
     },
     "output_type": "display_data"
    },
    {
     "data": {
      "text/markdown": [
       "## 3 hidden states"
      ],
      "text/plain": [
       "<IPython.core.display.Markdown object>"
      ]
     },
     "metadata": {},
     "output_type": "display_data"
    },
    {
     "data": {
      "image/png": "[encoded data removed]",
      "text/plain": [
       "<Figure size 432x288 with 3 Axes>"
      ]
     },
     "metadata": {
      "needs_background": "light"
     },
     "output_type": "display_data"
    },
    {
     "name": "stdout",
     "output_type": "stream",
     "text": [
      "example outputs:\n",
      "CSNOHKD,AADNO,AHTAL,WOW,HENTTGF,IPEAAIY,NL,IRE,HIUEO,SE\n",
      "CPU times: user 14.4 s, sys: 294 ms, total: 14.7 s\n",
      "Wall time: 14.6 s\n"
     ]
    }
   ],
   "source": [
    "%%time\n",
    "runexample(X,3,27,False)"
   ]
  },
  {
   "cell_type": "code",
   "execution_count": 27,
   "metadata": {},
   "outputs": [
    {
     "data": {
      "text/plain": [
       "'itt #9, llh=-371630.569178, rel-llh-imp=0.000099'"
      ]
     },
     "metadata": {},
     "output_type": "display_data"
    },
    {
     "data": {
      "image/png": "[encoded data removed]",
      "text/plain": [
       "<Figure size 144x72 with 1 Axes>"
      ]
     },
     "metadata": {
      "needs_background": "light"
     },
     "output_type": "display_data"
    },
    {
     "data": {
      "text/markdown": [
       "## 5 hidden states"
      ],
      "text/plain": [
       "<IPython.core.display.Markdown object>"
      ]
     },
     "metadata": {},
     "output_type": "display_data"
    },
    {
     "data": {
      "image/png": "[encoded data removed]",
      "text/plain": [
       "<Figure size 432x288 with 3 Axes>"
      ]
     },
     "metadata": {
      "needs_background": "light"
     },
     "output_type": "display_data"
    },
    {
     "name": "stdout",
     "output_type": "stream",
     "text": [
      "example outputs:\n",
      "M           Y,EI,C,E,AP,T,OT,WNH,EMLEDLROETCHIO,P\n",
      "CPU times: user 11.4 s, sys: 525 ms, total: 12 s\n",
      "Wall time: 11.9 s\n"
     ]
    }
   ],
   "source": [
    "%%time\n",
    "runexample(X,5,27,False)"
   ]
  },
  {
   "cell_type": "code",
   "execution_count": 29,
   "metadata": {},
   "outputs": [
    {
     "data": {
      "text/plain": [
       "'itt #71, llh=-334776.821462, rel-llh-imp=0.000077'"
      ]
     },
     "metadata": {},
     "output_type": "display_data"
    },
    {
     "data": {
      "image/png": "[encoded data removed]",
      "text/plain": [
       "<Figure size 144x72 with 1 Axes>"
      ]
     },
     "metadata": {
      "needs_background": "light"
     },
     "output_type": "display_data"
    },
    {
     "data": {
      "text/markdown": [
       "## 5 hidden states"
      ],
      "text/plain": [
       "<IPython.core.display.Markdown object>"
      ]
     },
     "metadata": {},
     "output_type": "display_data"
    },
    {
     "data": {
      "image/png": "[encoded data removed]",
      "text/plain": [
       "<Figure size 432x288 with 3 Axes>"
      ]
     },
     "metadata": {
      "needs_background": "light"
     },
     "output_type": "display_data"
    },
    {
     "name": "stdout",
     "output_type": "stream",
     "text": [
      "example outputs:\n",
      "PE,HLO,DUTNHFN,AWU,CHQA,T,SO,WE,HPE,SAN\n",
      "CPU times: user 1min 18s, sys: 3.21 s, total: 1min 21s\n",
      "Wall time: 1min 21s\n"
     ]
    }
   ],
   "source": [
    "%%time\n",
    "runexample(X,5,27,True)"
   ]
  },
  {
   "cell_type": "code",
   "execution_count": 30,
   "metadata": {},
   "outputs": [
    {
     "data": {
      "text/plain": [
       "'itt #48, llh=-297405.739173, rel-llh-imp=0.000098'"
      ]
     },
     "metadata": {},
     "output_type": "display_data"
    },
    {
     "data": {
      "image/png": "[encoded data removed]",
      "text/plain": [
       "<Figure size 144x72 with 1 Axes>"
      ]
     },
     "metadata": {
      "needs_background": "light"
     },
     "output_type": "display_data"
    },
    {
     "data": {
      "text/markdown": [
       "## 15 hidden states"
      ],
      "text/plain": [
       "<IPython.core.display.Markdown object>"
      ]
     },
     "metadata": {},
     "output_type": "display_data"
    },
    {
     "data": {
      "image/png": "[encoded data removed]",
      "text/plain": [
       "<Figure size 432x288 with 3 Axes>"
      ]
     },
     "metadata": {
      "needs_background": "light"
     },
     "output_type": "display_data"
    },
    {
     "name": "stdout",
     "output_type": "stream",
     "text": [
      "example outputs:\n",
      "MFALD,LORERE,SHF,MOBOBE,TOILG,SHF,NEAXTK,BOR,BICERE,MEALD\n",
      "CPU times: user 1min 33s, sys: 13.8 s, total: 1min 46s\n",
      "Wall time: 1min 46s\n"
     ]
    }
   ],
   "source": [
    "%%time\n",
    "# This one might take a while (it took my code 5 minutes to finish on hub.cs.ucr.edu)\n",
    "runexample(X,15,27,True)"
   ]
  },
  {
   "cell_type": "code",
   "execution_count": 31,
   "metadata": {},
   "outputs": [
    {
     "data": {
      "text/plain": [
       "'itt #84, llh=-274960.283827, rel-llh-imp=0.000093'"
      ]
     },
     "metadata": {},
     "output_type": "display_data"
    },
    {
     "data": {
      "image/png": "[encoded data removed]",
      "text/plain": [
       "<Figure size 144x72 with 1 Axes>"
      ]
     },
     "metadata": {
      "needs_background": "light"
     },
     "output_type": "display_data"
    },
    {
     "data": {
      "text/markdown": [
       "## 30 hidden states"
      ],
      "text/plain": [
       "<IPython.core.display.Markdown object>"
      ]
     },
     "metadata": {},
     "output_type": "display_data"
    },
    {
     "data": {
      "image/png": "[encoded data removed]",
      "text/plain": [
       "<Figure size 432x288 with 3 Axes>"
      ]
     },
     "metadata": {
      "needs_background": "light"
     },
     "output_type": "display_data"
    },
    {
     "name": "stdout",
     "output_type": "stream",
     "text": [
      "example outputs:\n",
      "OF,SHE,THATTE,T,RALEN,THEW,SHED,THER,GO,THE\n",
      "CPU times: user 6min 31s, sys: 1min 26s, total: 7min 58s\n",
      "Wall time: 7min 57s\n"
     ]
    }
   ],
   "source": [
    "%%time\n",
    "# This one might take a while (it took my code 5 minutes to finish on hub.cs.ucr.edu)\n",
    "runexample(X,30,27,True)"
   ]
  },
  {
   "cell_type": "markdown",
   "metadata": {},
   "source": [
    "## What did it learn?\n",
    "\n",
    "Each of the examples above train a (slightly) more sophisticated model of English spellings.\n",
    "\n",
    "For each, explain what property or properties it has learned (particularly relative to the previous examples):"
   ]
  },
  {
   "cell_type": "markdown",
   "metadata": {},
   "source": [
    "### Question 3a-e\n",
    "### 5 points (scored all here)\n",
    "<div class=\"alert alert-success\">\n",
    "    <font size=+1>Grading</font> (to be completed by grader)<br>\n",
    "    Score: 4.5/5<br>\n",
    "    Could deduce more than that.  For instance, in 15 states, state 1 is for vowels only\n",
    "</div>"
   ]
  },
  {
   "cell_type": "markdown",
   "metadata": {},
   "source": [
    "### Question 3a\n",
    "### 1 point"
   ]
  },
  {
   "cell_type": "markdown",
   "metadata": {},
   "source": [
    "What did the model with 1 hidden state learn?"
   ]
  },
  {
   "cell_type": "markdown",
   "metadata": {},
   "source": [
    "### Your answer here\n",
    "It is effectively a simple Markov chain. Pi and A both are scalars with value 1. As there is only one state, always the sequence starts and transitions into the same state. B is a vector of normalized frequency of the letters found in the words. It also failed to learn that there is no space inside of a word."
   ]
  },
  {
   "cell_type": "markdown",
   "metadata": {},
   "source": [
    "### Question 3b\n",
    "### 1 point"
   ]
  },
  {
   "cell_type": "markdown",
   "metadata": {},
   "source": [
    "What did the model with 2 hidden states learn?"
   ]
  },
  {
   "cell_type": "markdown",
   "metadata": {},
   "source": [
    "### Your answer here\n",
    "From pi, it can be said that the starting state is always 1 and never 0. From A, it is evident that from state 0, most of the times transitions to state 1 and from state 1, almost always moves to state 1. From B, it is seen that in state 1, space character is never emitted.\n",
    "\n",
    "This model could learn that space doesn't come inside a word."
   ]
  },
  {
   "cell_type": "markdown",
   "metadata": {},
   "source": [
    "### Question 3c\n",
    "### 1 point"
   ]
  },
  {
   "cell_type": "markdown",
   "metadata": {},
   "source": [
    "What did the model with 3 hidden states learn?"
   ]
  },
  {
   "cell_type": "markdown",
   "metadata": {},
   "source": [
    "### Your answer here\n",
    "From pi, it can be seen that the starting state is either 0 or 1, but never 2. From A, it is found that from state 0, the model transitions to either state 1 or 2, from state 1, its probability of transitioning gradually increases from state 0 to 2, from state 2, the trend is opposite of the previous one. From B, it can be said that all the characters are emitted at each states with some variation in the probability, however, space is never emitted at state 0.\n",
    "\n",
    "This model started to form more believable Englishy words than the previos two. So, it has a better understanding of the letter sequences in English Language."
   ]
  },
  {
   "cell_type": "markdown",
   "metadata": {},
   "source": [
    "### Question 3d\n",
    "### 1 point"
   ]
  },
  {
   "cell_type": "markdown",
   "metadata": {},
   "source": [
    "What did the model with 5 hidden states learn?\n",
    "\n",
    "What was the difference between setting the B matrix specifically to tie the last state to \"space\" (second version) and not doing so (first version)?"
   ]
  },
  {
   "cell_type": "markdown",
   "metadata": {},
   "source": [
    "### Your answer here\n",
    "In the first one, it did not tie the last state to \"space\" and failed to learn that space doesn't come inside of a word. Pi says that the model never starts at state 1 and A says that all transitions are allowed except from state 1 to itself. B shows that space is only emitted at state 1.\n",
    "\n",
    "In the second one, it specifically learned that space doesn't come inside of a word. A matrix shows that it has learned that there will never be a transition from the state associated with space to itself. B expresses that state 4 never emits a space.\n",
    "\n",
    "The main difference was that the learning of the position of space in words. That is why the latter generated better sequence of letters with no space inside of them."
   ]
  },
  {
   "cell_type": "markdown",
   "metadata": {},
   "source": [
    "### Question 3e\n",
    "### 1 point"
   ]
  },
  {
   "cell_type": "markdown",
   "metadata": {},
   "source": [
    "What did the model with 15 hidden states learn?"
   ]
  },
  {
   "cell_type": "markdown",
   "metadata": {},
   "source": [
    "### Your answer here\n",
    "From Pi, it can be said that 4 is never the starting state. From A it is evident that the state 14 (last state) never transitions to itself. B shows that space is never emitted at the last state. It also learned that space is a separator between words. This model tried to generate longer words than any of the previous models. This may indicate that with more states, the model's learning gets more focused towards the formation of longer sequence of letters."
   ]
  },
  {
   "cell_type": "markdown",
   "metadata": {},
   "source": [
    "## Final note: \n",
    "If you have time, you might want to try to many more hidden states (around 30-50 or so it starts to produce much more \"English-y\" \"words\")"
   ]
  }
 ],
 "metadata": {
  "kernelspec": {
   "display_name": "Python 3",
   "language": "python",
   "name": "python3"
  },
  "language_info": {
   "codemirror_mode": {
    "name": "ipython",
    "version": 3
   },
   "file_extension": ".py",
   "mimetype": "text/x-python",
   "name": "python",
   "nbconvert_exporter": "python",
   "pygments_lexer": "ipython3",
   "version": "3.9.2"
  }
 },
 "nbformat": 4,
 "nbformat_minor": 4
}
